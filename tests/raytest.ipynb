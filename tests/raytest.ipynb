{
 "cells": [
  {
   "cell_type": "code",
   "execution_count": 1,
   "metadata": {},
   "outputs": [],
   "source": [
    "from ray import tune"
   ]
  },
  {
   "cell_type": "code",
   "execution_count": 2,
   "metadata": {},
   "outputs": [],
   "source": [
    "def objective(step, alpha, beta):\n",
    "    return (0.1 + alpha * step / 100)**-1 + beta * 0.1"
   ]
  },
  {
   "cell_type": "code",
   "execution_count": 3,
   "metadata": {},
   "outputs": [],
   "source": [
    "def training_function(config):\n",
    "    # hyperparameters\n",
    "    alpha, beta = config['alpha'], config['beta']\n",
    "    for step in range(10):\n",
    "        # Iterative training function - can be arbitrary\n",
    "        intermediate_score = objective(step, alpha, beta)\n",
    "        # Feed the score back to Tune\n",
    "        tune.report(mean_loss = intermediate_score)"
   ]
  },
  {
   "cell_type": "code",
   "execution_count": 4,
   "metadata": {},
   "outputs": [
    {
     "name": "stderr",
     "output_type": "stream",
     "text": [
      "2020-12-07 20:29:51,982\tINFO services.py:1090 -- View the Ray dashboard at \u001b[1m\u001b[32mhttp://127.0.0.1:8265\u001b[39m\u001b[22m\n",
      "2020-12-07 20:29:53,333\tWARNING function_runner.py:539 -- Function checkpointing is disabled. This may result in unexpected behavior when using checkpointing features or certain schedulers. To enable, set the train function arguments to be `func(config, checkpoint_dir=None)`.\n",
      "2020-12-07 20:29:53,361\tWARNING tune.py:401 -- Tune detects GPUs, but no trials are using GPUs. To enable trials to use GPUs, set tune.run(resources_per_trial={'gpu': 1}...) which allows Tune to expose 1 GPU to each trial. You can also override `Trainable.default_resource_request` if using the Trainable API.\n"
     ]
    },
    {
     "data": {
      "text/html": [
       "== Status ==<br>Memory usage on this node: 5.6/15.4 GiB<br>Using FIFO scheduling algorithm.<br>Resources requested: 1/12 CPUs, 0/1 GPUs, 0.0/6.45 GiB heap, 0.0/2.2 GiB objects (0/1.0 accelerator_type:GTX)<br>Result logdir: /home/rick/ray_results/training_function_2020-12-07_20-29-53<br>Number of trials: 1/3 (1 RUNNING)<br><table>\n",
       "<thead>\n",
       "<tr><th>Trial name                   </th><th>status  </th><th>loc  </th><th style=\"text-align: right;\">  alpha</th><th style=\"text-align: right;\">  beta</th></tr>\n",
       "</thead>\n",
       "<tbody>\n",
       "<tr><td>training_function_94a54_00000</td><td>RUNNING </td><td>     </td><td style=\"text-align: right;\">  0.001</td><td style=\"text-align: right;\">     1</td></tr>\n",
       "</tbody>\n",
       "</table><br><br>"
      ],
      "text/plain": [
       "<IPython.core.display.HTML object>"
      ]
     },
     "metadata": {},
     "output_type": "display_data"
    },
    {
     "name": "stdout",
     "output_type": "stream",
     "text": [
      "Result for training_function_94a54_00000:\n",
      "  date: 2020-12-07_20-29-53\n",
      "  done: false\n",
      "  experiment_id: c7e196a7351945bb9895f1dd867148c4\n",
      "  experiment_tag: 0_alpha=0.001,beta=1\n",
      "  hostname: amber\n",
      "  iterations_since_restore: 1\n",
      "  mean_loss: 10.1\n",
      "  neg_mean_loss: -10.1\n",
      "  node_ip: 192.168.178.108\n",
      "  pid: 9700\n",
      "  time_since_restore: 0.0001220703125\n",
      "  time_this_iter_s: 0.0001220703125\n",
      "  time_total_s: 0.0001220703125\n",
      "  timestamp: 1607369393\n",
      "  timesteps_since_restore: 0\n",
      "  training_iteration: 1\n",
      "  trial_id: 94a54_00000\n",
      "  \n",
      "Result for training_function_94a54_00001:\n",
      "  date: 2020-12-07_20-29-53\n",
      "  done: false\n",
      "  experiment_id: c9af88e007bb4571a40368b638bbce4b\n",
      "  experiment_tag: 1_alpha=0.01,beta=2\n",
      "  hostname: amber\n",
      "  iterations_since_restore: 1\n",
      "  mean_loss: 10.2\n",
      "  neg_mean_loss: -10.2\n",
      "  node_ip: 192.168.178.108\n",
      "  pid: 9701\n",
      "  time_since_restore: 0.00010466575622558594\n",
      "  time_this_iter_s: 0.00010466575622558594\n",
      "  time_total_s: 0.00010466575622558594\n",
      "  timestamp: 1607369393\n",
      "  timesteps_since_restore: 0\n",
      "  training_iteration: 1\n",
      "  trial_id: 94a54_00001\n",
      "  \n",
      "Result for training_function_94a54_00002:\n",
      "  date: 2020-12-07_20-29-53\n",
      "  done: false\n",
      "  experiment_id: d430d252eab444e48c54c93e55824605\n",
      "  experiment_tag: 2_alpha=0.1,beta=1\n",
      "  hostname: amber\n",
      "  iterations_since_restore: 1\n",
      "  mean_loss: 10.1\n",
      "  neg_mean_loss: -10.1\n",
      "  node_ip: 192.168.178.108\n",
      "  pid: 9697\n",
      "  time_since_restore: 8.392333984375e-05\n",
      "  time_this_iter_s: 8.392333984375e-05\n",
      "  time_total_s: 8.392333984375e-05\n",
      "  timestamp: 1607369393\n",
      "  timesteps_since_restore: 0\n",
      "  training_iteration: 1\n",
      "  trial_id: 94a54_00002\n",
      "  \n"
     ]
    },
    {
     "data": {
      "text/html": [
       "== Status ==<br>Memory usage on this node: 5.7/15.4 GiB<br>Using FIFO scheduling algorithm.<br>Resources requested: 0/12 CPUs, 0/1 GPUs, 0.0/6.45 GiB heap, 0.0/2.2 GiB objects (0/1.0 accelerator_type:GTX)<br>Result logdir: /home/rick/ray_results/training_function_2020-12-07_20-29-53<br>Number of trials: 3/3 (3 TERMINATED)<br><table>\n",
       "<thead>\n",
       "<tr><th>Trial name                   </th><th>status    </th><th>loc  </th><th style=\"text-align: right;\">  alpha</th><th style=\"text-align: right;\">  beta</th><th style=\"text-align: right;\">    loss</th><th style=\"text-align: right;\">  iter</th><th style=\"text-align: right;\">  total time (s)</th><th style=\"text-align: right;\">  neg_mean_loss</th></tr>\n",
       "</thead>\n",
       "<tbody>\n",
       "<tr><td>training_function_94a54_00000</td><td>TERMINATED</td><td>     </td><td style=\"text-align: right;\">  0.001</td><td style=\"text-align: right;\">     1</td><td style=\"text-align: right;\">10.091  </td><td style=\"text-align: right;\">    10</td><td style=\"text-align: right;\">       0.0191834</td><td style=\"text-align: right;\">      -10.091  </td></tr>\n",
       "<tr><td>training_function_94a54_00001</td><td>TERMINATED</td><td>     </td><td style=\"text-align: right;\">  0.01 </td><td style=\"text-align: right;\">     2</td><td style=\"text-align: right;\">10.1108 </td><td style=\"text-align: right;\">    10</td><td style=\"text-align: right;\">       0.0399268</td><td style=\"text-align: right;\">      -10.1108 </td></tr>\n",
       "<tr><td>training_function_94a54_00002</td><td>TERMINATED</td><td>     </td><td style=\"text-align: right;\">  0.1  </td><td style=\"text-align: right;\">     1</td><td style=\"text-align: right;\"> 9.27431</td><td style=\"text-align: right;\">    10</td><td style=\"text-align: right;\">       0.028547 </td><td style=\"text-align: right;\">       -9.27431</td></tr>\n",
       "</tbody>\n",
       "</table><br><br>"
      ],
      "text/plain": [
       "<IPython.core.display.HTML object>"
      ]
     },
     "metadata": {},
     "output_type": "display_data"
    },
    {
     "name": "stderr",
     "output_type": "stream",
     "text": [
      "2020-12-07 20:29:53,703\tINFO tune.py:439 -- Total run time: 2.28 seconds (0.34 seconds for the tuning loop).\n"
     ]
    }
   ],
   "source": [
    "analysis = tune.run(\n",
    "    training_function,\n",
    "    config = {\n",
    "        'alpha': tune.grid_search([0.001, 0.01, 0.1]),\n",
    "        'beta': tune.choice([1, 2, 3])\n",
    "    }\n",
    ")"
   ]
  },
  {
   "cell_type": "code",
   "execution_count": 6,
   "metadata": {},
   "outputs": [
    {
     "name": "stdout",
     "output_type": "stream",
     "text": [
      "Best config:  {'alpha': 0.1, 'beta': 1}\n"
     ]
    }
   ],
   "source": [
    "print(\"Best config: \", analysis.get_best_config(metric = 'mean_loss', mode = 'min'))"
   ]
  },
  {
   "cell_type": "code",
   "execution_count": 7,
   "metadata": {},
   "outputs": [],
   "source": [
    "# get a dataframe for analyzing trial results\n",
    "df = analysis.results_df"
   ]
  },
  {
   "cell_type": "code",
   "execution_count": 8,
   "metadata": {},
   "outputs": [
    {
     "data": {
      "text/html": [
       "<div>\n",
       "<style scoped>\n",
       "    .dataframe tbody tr th:only-of-type {\n",
       "        vertical-align: middle;\n",
       "    }\n",
       "\n",
       "    .dataframe tbody tr th {\n",
       "        vertical-align: top;\n",
       "    }\n",
       "\n",
       "    .dataframe thead th {\n",
       "        text-align: right;\n",
       "    }\n",
       "</style>\n",
       "<table border=\"1\" class=\"dataframe\">\n",
       "  <thead>\n",
       "    <tr style=\"text-align: right;\">\n",
       "      <th></th>\n",
       "      <th>mean_loss</th>\n",
       "      <th>time_this_iter_s</th>\n",
       "      <th>done</th>\n",
       "      <th>timesteps_total</th>\n",
       "      <th>episodes_total</th>\n",
       "      <th>training_iteration</th>\n",
       "      <th>neg_mean_loss</th>\n",
       "      <th>experiment_id</th>\n",
       "      <th>date</th>\n",
       "      <th>timestamp</th>\n",
       "      <th>time_total_s</th>\n",
       "      <th>pid</th>\n",
       "      <th>hostname</th>\n",
       "      <th>node_ip</th>\n",
       "      <th>time_since_restore</th>\n",
       "      <th>timesteps_since_restore</th>\n",
       "      <th>iterations_since_restore</th>\n",
       "      <th>experiment_tag</th>\n",
       "      <th>config.alpha</th>\n",
       "      <th>config.beta</th>\n",
       "    </tr>\n",
       "    <tr>\n",
       "      <th>trial_id</th>\n",
       "      <th></th>\n",
       "      <th></th>\n",
       "      <th></th>\n",
       "      <th></th>\n",
       "      <th></th>\n",
       "      <th></th>\n",
       "      <th></th>\n",
       "      <th></th>\n",
       "      <th></th>\n",
       "      <th></th>\n",
       "      <th></th>\n",
       "      <th></th>\n",
       "      <th></th>\n",
       "      <th></th>\n",
       "      <th></th>\n",
       "      <th></th>\n",
       "      <th></th>\n",
       "      <th></th>\n",
       "      <th></th>\n",
       "      <th></th>\n",
       "    </tr>\n",
       "  </thead>\n",
       "  <tbody>\n",
       "    <tr>\n",
       "      <th>94a54_00000</th>\n",
       "      <td>10.091008</td>\n",
       "      <td>0.001665</td>\n",
       "      <td>True</td>\n",
       "      <td>None</td>\n",
       "      <td>None</td>\n",
       "      <td>10</td>\n",
       "      <td>-10.091008</td>\n",
       "      <td>c7e196a7351945bb9895f1dd867148c4</td>\n",
       "      <td>2020-12-07_20-29-53</td>\n",
       "      <td>1607369393</td>\n",
       "      <td>0.019183</td>\n",
       "      <td>9700</td>\n",
       "      <td>amber</td>\n",
       "      <td>192.168.178.108</td>\n",
       "      <td>0.019183</td>\n",
       "      <td>0</td>\n",
       "      <td>10</td>\n",
       "      <td>0_alpha=0.001,beta=1</td>\n",
       "      <td>0.001</td>\n",
       "      <td>1</td>\n",
       "    </tr>\n",
       "    <tr>\n",
       "      <th>94a54_00001</th>\n",
       "      <td>10.110803</td>\n",
       "      <td>0.001534</td>\n",
       "      <td>True</td>\n",
       "      <td>None</td>\n",
       "      <td>None</td>\n",
       "      <td>10</td>\n",
       "      <td>-10.110803</td>\n",
       "      <td>c9af88e007bb4571a40368b638bbce4b</td>\n",
       "      <td>2020-12-07_20-29-53</td>\n",
       "      <td>1607369393</td>\n",
       "      <td>0.039927</td>\n",
       "      <td>9701</td>\n",
       "      <td>amber</td>\n",
       "      <td>192.168.178.108</td>\n",
       "      <td>0.039927</td>\n",
       "      <td>0</td>\n",
       "      <td>10</td>\n",
       "      <td>1_alpha=0.01,beta=2</td>\n",
       "      <td>0.010</td>\n",
       "      <td>2</td>\n",
       "    </tr>\n",
       "    <tr>\n",
       "      <th>94a54_00002</th>\n",
       "      <td>9.274312</td>\n",
       "      <td>0.001583</td>\n",
       "      <td>True</td>\n",
       "      <td>None</td>\n",
       "      <td>None</td>\n",
       "      <td>10</td>\n",
       "      <td>-9.274312</td>\n",
       "      <td>d430d252eab444e48c54c93e55824605</td>\n",
       "      <td>2020-12-07_20-29-53</td>\n",
       "      <td>1607369393</td>\n",
       "      <td>0.028547</td>\n",
       "      <td>9697</td>\n",
       "      <td>amber</td>\n",
       "      <td>192.168.178.108</td>\n",
       "      <td>0.028547</td>\n",
       "      <td>0</td>\n",
       "      <td>10</td>\n",
       "      <td>2_alpha=0.1,beta=1</td>\n",
       "      <td>0.100</td>\n",
       "      <td>1</td>\n",
       "    </tr>\n",
       "  </tbody>\n",
       "</table>\n",
       "</div>"
      ],
      "text/plain": [
       "             mean_loss  time_this_iter_s  done timesteps_total episodes_total  \\\n",
       "trial_id                                                                        \n",
       "94a54_00000  10.091008          0.001665  True            None           None   \n",
       "94a54_00001  10.110803          0.001534  True            None           None   \n",
       "94a54_00002   9.274312          0.001583  True            None           None   \n",
       "\n",
       "             training_iteration  neg_mean_loss  \\\n",
       "trial_id                                         \n",
       "94a54_00000                  10     -10.091008   \n",
       "94a54_00001                  10     -10.110803   \n",
       "94a54_00002                  10      -9.274312   \n",
       "\n",
       "                                experiment_id                 date  \\\n",
       "trial_id                                                             \n",
       "94a54_00000  c7e196a7351945bb9895f1dd867148c4  2020-12-07_20-29-53   \n",
       "94a54_00001  c9af88e007bb4571a40368b638bbce4b  2020-12-07_20-29-53   \n",
       "94a54_00002  d430d252eab444e48c54c93e55824605  2020-12-07_20-29-53   \n",
       "\n",
       "              timestamp  time_total_s   pid hostname          node_ip  \\\n",
       "trial_id                                                                \n",
       "94a54_00000  1607369393      0.019183  9700    amber  192.168.178.108   \n",
       "94a54_00001  1607369393      0.039927  9701    amber  192.168.178.108   \n",
       "94a54_00002  1607369393      0.028547  9697    amber  192.168.178.108   \n",
       "\n",
       "             time_since_restore  timesteps_since_restore  \\\n",
       "trial_id                                                   \n",
       "94a54_00000            0.019183                        0   \n",
       "94a54_00001            0.039927                        0   \n",
       "94a54_00002            0.028547                        0   \n",
       "\n",
       "             iterations_since_restore        experiment_tag  config.alpha  \\\n",
       "trial_id                                                                    \n",
       "94a54_00000                        10  0_alpha=0.001,beta=1         0.001   \n",
       "94a54_00001                        10   1_alpha=0.01,beta=2         0.010   \n",
       "94a54_00002                        10    2_alpha=0.1,beta=1         0.100   \n",
       "\n",
       "             config.beta  \n",
       "trial_id                  \n",
       "94a54_00000            1  \n",
       "94a54_00001            2  \n",
       "94a54_00002            1  "
      ]
     },
     "execution_count": 8,
     "metadata": {},
     "output_type": "execute_result"
    }
   ],
   "source": [
    "df"
   ]
  }
 ],
 "metadata": {
  "kernelspec": {
   "display_name": "Python 3",
   "language": "python",
   "name": "python3"
  },
  "language_info": {
   "codemirror_mode": {
    "name": "ipython",
    "version": 3
   },
   "file_extension": ".py",
   "mimetype": "text/x-python",
   "name": "python",
   "nbconvert_exporter": "python",
   "pygments_lexer": "ipython3",
   "version": "3.8.6"
  }
 },
 "nbformat": 4,
 "nbformat_minor": 4
}
